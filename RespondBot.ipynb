{
 "cells": [
  {
   "cell_type": "code",
   "execution_count": 5,
   "metadata": {},
   "outputs": [],
   "source": [
    "#!/usr/bin/env python\n",
    "# coding: utf-8\n",
    "\n",
    "import discord\n",
    "\n",
    "import config\n",
    "import openai"
   ]
  },
  {
   "cell_type": "code",
   "execution_count": null,
   "metadata": {},
   "outputs": [],
   "source": [
    "openai.api_key = config.api_key\n",
    "token = config.token"
   ]
  },
  {
   "cell_type": "code",
   "execution_count": null,
   "metadata": {},
   "outputs": [],
   "source": [
    "class Client(discord.Client):\n",
    "    async def on_connect(self):\n",
    "        print(f\"\"\"\n",
    "            Client has successfully logged in as {client.user.name}#{client.user.discriminator}\n",
    "            Your discord ID is {client.user.id}\n",
    "        \"\"\")\n",
    "    \n",
    "    async def on_message(self, message):\n",
    "        if message.author != client.user:\n",
    "            return\n",
    "        start_sequence = \"\\nFriend:\"\n",
    "        restart_sequence = \"\\nHuman: \"\n",
    "        response = openai.Completion.create(\n",
    "            engine=\"text-davinci-001\",\n",
    "            prompt=\"The following is a conversation with a friend. The friend is helpful, creative, clever, and very friendly.\\n\\nHuman: Hello, who are you?\\nFriend: hi hi im good :3 \\nHuman: \",\n",
    "            temperature=0.9,\n",
    "            max_tokens=300,\n",
    "            top_p=1,\n",
    "            frequency_penalty=0,\n",
    "            presence_penalty=0.6,\n",
    "            stop=[\" Human:\", \" Friend:\"]\n",
    "        )\n",
    "        await ctx.send(response.choices[0].text)\n",
    "        "
   ]
  },
  {
   "cell_type": "code",
   "execution_count": null,
   "metadata": {},
   "outputs": [],
   "source": [
    "client = Client()\n",
    "try:\n",
    "    client.run(token, bot = False)\n",
    "except discord.LoginFailure:\n",
    "    print(\"ERROR: Client failed to log in. [Invalid token]\")\n",
    "except discord.HTTPException:\n",
    "    print(\"ERROR: Client failed to log in. [Unknown Error]\")"
   ]
  }
 ],
 "metadata": {
  "interpreter": {
   "hash": "ac59ebe37160ed0dfa835113d9b8498d9f09ceb179beaac4002f036b9467c963"
  },
  "kernelspec": {
   "display_name": "Python 3.9.9 64-bit",
   "language": "python",
   "name": "python3"
  },
  "language_info": {
   "codemirror_mode": {
    "name": "ipython",
    "version": 3
   },
   "file_extension": ".py",
   "mimetype": "text/x-python",
   "name": "python",
   "nbconvert_exporter": "python",
   "pygments_lexer": "ipython3",
   "version": "3.9.9"
  },
  "orig_nbformat": 4
 },
 "nbformat": 4,
 "nbformat_minor": 2
}
